{
 "cells": [
  {
   "cell_type": "code",
   "execution_count": null,
   "metadata": {},
   "outputs": [],
   "source": [
    "# SOURCE This notebook was coded with help from ChatGPT"
   ]
  },
  {
   "cell_type": "code",
   "execution_count": 5,
   "metadata": {},
   "outputs": [],
   "source": [
    "import pandas as pd\n",
    "import json\n",
    "from tqdm.auto import tqdm\n",
    "from pathlib import Path\n",
    "\n",
    "from gpt4all import GPT4All"
   ]
  },
  {
   "cell_type": "code",
   "execution_count": 9,
   "metadata": {},
   "outputs": [],
   "source": [
    "data_dir: Path = Path(\"../../../data\")\n",
    "responses_dir: Path = Path(\"responses\")"
   ]
  },
  {
   "cell_type": "code",
   "execution_count": 10,
   "metadata": {},
   "outputs": [
    {
     "data": {
      "text/plain": [
       "WindowsPath('../../../data')"
      ]
     },
     "execution_count": 10,
     "metadata": {},
     "output_type": "execute_result"
    }
   ],
   "source": [
    "data_dir"
   ]
  },
  {
   "cell_type": "code",
   "execution_count": 11,
   "metadata": {},
   "outputs": [],
   "source": [
    "df = pd.read_json(data_dir / Path(\"dataset_english.json\"))\n",
    "model = GPT4All(\"nous-hermes-llama2-13b.Q4_0.gguf\")"
   ]
  },
  {
   "cell_type": "code",
   "execution_count": 12,
   "metadata": {},
   "outputs": [],
   "source": [
    "pii = {}\n",
    "\n",
    "with open(data_dir / Path(\"pii_class_counts.json\"), \"r\") as file:\n",
    "    pii = json.load(file)\n",
    "\n",
    "english_piis = list(pii[0].keys())[:-1]"
   ]
  },
  {
   "cell_type": "code",
   "execution_count": 19,
   "metadata": {},
   "outputs": [],
   "source": [
    "instruction = (\n",
    "    \"You are searching for personal info in a given text.\"\n",
    "    + \"\\n Respond by stating all personal information in json format. Personal information can be the following: \\n\"\n",
    "    + str(english_piis)\n",
    "    + \"\\n Example: Hello Margareth, how are you? Here is my IBAN DE05 8903 8742 12342 32.\"\n",
    "    + \"\\n Response: {'FIRSTNAME': 'Margareth', 'IBAN':'DE05 8903 8742 12342 32'}\"\n",
    ")"
   ]
  },
  {
   "cell_type": "code",
   "execution_count": 20,
   "metadata": {},
   "outputs": [
    {
     "name": "stdout",
     "output_type": "stream",
     "text": [
      "You are searching for personal info in a given text.\n",
      " Respond by stating all personal information in json format. Personal information can be the following: \n",
      "['PREFIX', 'FIRSTNAME', 'LASTNAME', 'DATE', 'TIME', 'PHONEIMEI', 'USERNAME', 'GENDER', 'CITY', 'STATE', 'URL', 'JOBAREA', 'EMAIL', 'JOBTYPE', 'COMPANYNAME', 'JOBTITLE', 'STREET', 'SECONDARYADDRESS', 'COUNTY', 'AGE', 'USERAGENT', 'ACCOUNTNAME', 'ACCOUNTNUMBER', 'CURRENCYSYMBOL', 'AMOUNT', 'CREDITCARDISSUER', 'CREDITCARDNUMBER', 'CREDITCARDCVV', 'PHONENUMBER', 'SEX', 'IP', 'ETHEREUMADDRESS', 'BITCOINADDRESS', 'MIDDLENAME', 'IBAN', 'VEHICLEVRM', 'DOB', 'PIN', 'CURRENCY', 'PASSWORD', 'CURRENCYNAME', 'LITECOINADDRESS', 'CURRENCYCODE', 'BUILDINGNUMBER', 'ORDINALDIRECTION', 'MASKEDNUMBER', 'ZIPCODE', 'BIC', 'IPV4', 'IPV6', 'MAC', 'NEARBYGPSCOORDINATE', 'VEHICLEVIN', 'EYECOLOR', 'HEIGHT', 'SSN']\n",
      " Example: Hello Margareth, how are you? Here is my IBAN DE05 8903 8742 12342 32.\n",
      " Response: {'FIRSTNAME': 'Margareth', 'IBAN':'DE05 8903 8742 12342 32'}\n"
     ]
    }
   ],
   "source": [
    "print(instruction)"
   ]
  },
  {
   "cell_type": "code",
   "execution_count": 21,
   "metadata": {},
   "outputs": [],
   "source": [
    "def execute_batch(df: pd.DataFrame, model):\n",
    "    response = []\n",
    "    with model.chat_session(instruction, \"### Instruction:\\n{0}\\n### Response:\\n\"):\n",
    "        for item in tqdm(df.iloc(), total=len(df)):\n",
    "            response.append(\n",
    "                model.generate(\n",
    "                    f\"This is the text with personal info: '{item.unmasked_text}'\",\n",
    "                    temp=0,\n",
    "                    n_batch=128,\n",
    "                )\n",
    "            )\n",
    "    return response"
   ]
  },
  {
   "cell_type": "code",
   "execution_count": 22,
   "metadata": {},
   "outputs": [
    {
     "data": {
      "application/vnd.jupyter.widget-view+json": {
       "model_id": "29150e65d01b4a48a80e7b9730e3e029",
       "version_major": 2,
       "version_minor": 0
      },
      "text/plain": [
       "  0%|          | 0/6214 [00:00<?, ?it/s]"
      ]
     },
     "metadata": {},
     "output_type": "display_data"
    },
    {
     "data": {
      "application/vnd.jupyter.widget-view+json": {
       "model_id": "3f2fb865d02040beab30a92785703577",
       "version_major": 2,
       "version_minor": 0
      },
      "text/plain": [
       "  0%|          | 0/7 [00:00<?, ?it/s]"
      ]
     },
     "metadata": {},
     "output_type": "display_data"
    }
   ],
   "source": [
    "start = 3004\n",
    "batch_size = 7\n",
    "\n",
    "\n",
    "for i in tqdm(\n",
    "    range(batch_size + start, len(df), batch_size), total=len(df) // batch_size\n",
    "):\n",
    "    batch = {}\n",
    "\n",
    "    low = i - batch_size\n",
    "    up = i\n",
    "\n",
    "    slice = df.iloc[low:up]\n",
    "\n",
    "    batch[\"response\"] = execute_batch(slice, model)\n",
    "    batch[\"low\"] = low\n",
    "    batch[\"up\"] = up\n",
    "\n",
    "    with open(responses_dir / Path(f\"response-{low}.json\"), mode=\"w\") as file:\n",
    "        file.write(json.dumps(batch))\n",
    "\n",
    "\n",
    "else:\n",
    "    low = len(df) - len(df) % 1000\n",
    "    up = len(df)\n",
    "\n",
    "    batch = {}\n",
    "\n",
    "    slice = df.iloc[low:up]\n",
    "\n",
    "    batch[\"response\"] = execute_batch(slice, model)\n",
    "    batch[\"low\"] = low\n",
    "    batch[\"up\"] = up\n",
    "\n",
    "    with open(responses_dir / Path(f\"response-{low}.json\"), mode=\"w\") as file:\n",
    "        file.write(json.dumps(batch))"
   ]
  }
 ],
 "metadata": {
  "kernelspec": {
   "display_name": ".venv",
   "language": "python",
   "name": "python3"
  },
  "language_info": {
   "codemirror_mode": {
    "name": "ipython",
    "version": 3
   },
   "file_extension": ".py",
   "mimetype": "text/x-python",
   "name": "python",
   "nbconvert_exporter": "python",
   "pygments_lexer": "ipython3",
   "version": "3.11.5"
  }
 },
 "nbformat": 4,
 "nbformat_minor": 2
}
