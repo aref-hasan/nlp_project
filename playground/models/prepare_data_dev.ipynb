{
 "cells": [
  {
   "cell_type": "code",
   "execution_count": 38,
   "metadata": {},
   "outputs": [],
   "source": [
    "import pandas as pd\n",
    "\n",
    "from huggingface_hub import hf_hub_download\n",
    "\n",
    "import ast"
   ]
  },
  {
   "cell_type": "code",
   "execution_count": 39,
   "metadata": {},
   "outputs": [
    {
     "data": {
      "text/plain": [
       "'data\\\\german_pii_52k.jsonl'"
      ]
     },
     "execution_count": 39,
     "metadata": {},
     "output_type": "execute_result"
    }
   ],
   "source": [
    "# Download the german dataset to the local data folder\n",
    "\n",
    "hf_hub_download(\n",
    "    repo_id=\"ai4privacy/pii-masking-200k\",\n",
    "    filename=\"german_pii_52k.jsonl\",\n",
    "    repo_type=\"dataset\",\n",
    "    local_dir=\"../data\",\n",
    ")"
   ]
  },
  {
   "cell_type": "code",
   "execution_count": 40,
   "metadata": {},
   "outputs": [],
   "source": [
    "df: pd.DataFrame = pd.read_json(\"../data/german_pii_52k.jsonl\", lines=True)"
   ]
  },
  {
   "cell_type": "code",
   "execution_count": 41,
   "metadata": {},
   "outputs": [
    {
     "data": {
      "text/html": [
       "<div>\n",
       "<style scoped>\n",
       "    .dataframe tbody tr th:only-of-type {\n",
       "        vertical-align: middle;\n",
       "    }\n",
       "\n",
       "    .dataframe tbody tr th {\n",
       "        vertical-align: top;\n",
       "    }\n",
       "\n",
       "    .dataframe thead th {\n",
       "        text-align: right;\n",
       "    }\n",
       "</style>\n",
       "<table border=\"1\" class=\"dataframe\">\n",
       "  <thead>\n",
       "    <tr style=\"text-align: right;\">\n",
       "      <th></th>\n",
       "      <th>masked_text</th>\n",
       "      <th>unmasked_text</th>\n",
       "      <th>privacy_mask</th>\n",
       "      <th>span_labels</th>\n",
       "      <th>bio_labels</th>\n",
       "      <th>tokenised_text</th>\n",
       "    </tr>\n",
       "  </thead>\n",
       "  <tbody>\n",
       "    <tr>\n",
       "      <th>0</th>\n",
       "      <td>'Exkursionsupdate: Wir werden uns in [ORDINALD...</td>\n",
       "      <td>'Exkursionsupdate: Wir werden uns in Northeast...</td>\n",
       "      <td>{'[ORDINALDIRECTION_1]': 'Northeast', '[NEARBY...</td>\n",
       "      <td>[[0, 37, 'O'], [37, 46, 'ORDINALDIRECTION_1'],...</td>\n",
       "      <td>[O, O, O, O, O, O, O, O, O, O, O, O, O, O, B-O...</td>\n",
       "      <td>[', ex, ##kur, ##sions, ##up, ##date, :, wi, #...</td>\n",
       "    </tr>\n",
       "    <tr>\n",
       "      <th>1</th>\n",
       "      <td>Sehr geehrte[r] [PREFIX_1] [LASTNAME_1], wie u...</td>\n",
       "      <td>Sehr geehrte[r] Ms. Keeling, wie unsere Aufzei...</td>\n",
       "      <td>{'[PREFIX_1]': 'Ms.', '[LASTNAME_1]': 'Keeling...</td>\n",
       "      <td>[[0, 16, 'O'], [16, 19, 'PREFIX_1'], [19, 20, ...</td>\n",
       "      <td>[O, O, O, O, O, O, O, O, B-PREFIX, I-PREFIX, B...</td>\n",
       "      <td>[se, ##hr, gee, ##hr, ##te, [, r, ], ms, ., ke...</td>\n",
       "    </tr>\n",
       "    <tr>\n",
       "      <th>2</th>\n",
       "      <td>'Wir bestätigen noch einmal die Finanzen für d...</td>\n",
       "      <td>'Wir bestätigen noch einmal die Finanzen für d...</td>\n",
       "      <td>{'[BIC_1]': 'MGJNCGF5XXX', '[IBAN_1]': 'BH13JD...</td>\n",
       "      <td>[[0, 105, 'O'], [105, 116, 'BIC_1'], [116, 130...</td>\n",
       "      <td>[O, O, O, O, O, O, O, O, O, O, O, O, O, O, O, ...</td>\n",
       "      <td>[', wi, ##r, best, ##ati, ##gen, no, ##ch, ein...</td>\n",
       "    </tr>\n",
       "    <tr>\n",
       "      <th>3</th>\n",
       "      <td>[FIRSTNAME_1], wir haben eine Anfrage erhalten...</td>\n",
       "      <td>Deangelo, wir haben eine Anfrage erhalten, die...</td>\n",
       "      <td>{'[FIRSTNAME_1]': 'Deangelo', '[IBAN_1]': 'XK6...</td>\n",
       "      <td>[[0, 8, 'FIRSTNAME_1'], [8, 65, 'O'], [65, 85,...</td>\n",
       "      <td>[B-FIRSTNAME, I-FIRSTNAME, I-FIRSTNAME, O, O, ...</td>\n",
       "      <td>[dean, ##gel, ##o, ,, wi, ##r, ha, ##ben, eine...</td>\n",
       "    </tr>\n",
       "    <tr>\n",
       "      <th>4</th>\n",
       "      <td>Finanzberichte des Patienten, die [AMOUNT_1] T...</td>\n",
       "      <td>Finanzberichte des Patienten, die 358k Transak...</td>\n",
       "      <td>{'[AMOUNT_1]': '358k', '[CREDITCARDISSUER_1]':...</td>\n",
       "      <td>[[0, 34, 'O'], [34, 38, 'AMOUNT_1'], [38, 68, ...</td>\n",
       "      <td>[O, O, O, O, O, O, O, O, O, O, O, B-AMOUNT, I-...</td>\n",
       "      <td>[fin, ##an, ##z, ##ber, ##ich, ##te, des, pati...</td>\n",
       "    </tr>\n",
       "  </tbody>\n",
       "</table>\n",
       "</div>"
      ],
      "text/plain": [
       "                                         masked_text  \\\n",
       "0  'Exkursionsupdate: Wir werden uns in [ORDINALD...   \n",
       "1  Sehr geehrte[r] [PREFIX_1] [LASTNAME_1], wie u...   \n",
       "2  'Wir bestätigen noch einmal die Finanzen für d...   \n",
       "3  [FIRSTNAME_1], wir haben eine Anfrage erhalten...   \n",
       "4  Finanzberichte des Patienten, die [AMOUNT_1] T...   \n",
       "\n",
       "                                       unmasked_text  \\\n",
       "0  'Exkursionsupdate: Wir werden uns in Northeast...   \n",
       "1  Sehr geehrte[r] Ms. Keeling, wie unsere Aufzei...   \n",
       "2  'Wir bestätigen noch einmal die Finanzen für d...   \n",
       "3  Deangelo, wir haben eine Anfrage erhalten, die...   \n",
       "4  Finanzberichte des Patienten, die 358k Transak...   \n",
       "\n",
       "                                        privacy_mask  \\\n",
       "0  {'[ORDINALDIRECTION_1]': 'Northeast', '[NEARBY...   \n",
       "1  {'[PREFIX_1]': 'Ms.', '[LASTNAME_1]': 'Keeling...   \n",
       "2  {'[BIC_1]': 'MGJNCGF5XXX', '[IBAN_1]': 'BH13JD...   \n",
       "3  {'[FIRSTNAME_1]': 'Deangelo', '[IBAN_1]': 'XK6...   \n",
       "4  {'[AMOUNT_1]': '358k', '[CREDITCARDISSUER_1]':...   \n",
       "\n",
       "                                         span_labels  \\\n",
       "0  [[0, 37, 'O'], [37, 46, 'ORDINALDIRECTION_1'],...   \n",
       "1  [[0, 16, 'O'], [16, 19, 'PREFIX_1'], [19, 20, ...   \n",
       "2  [[0, 105, 'O'], [105, 116, 'BIC_1'], [116, 130...   \n",
       "3  [[0, 8, 'FIRSTNAME_1'], [8, 65, 'O'], [65, 85,...   \n",
       "4  [[0, 34, 'O'], [34, 38, 'AMOUNT_1'], [38, 68, ...   \n",
       "\n",
       "                                          bio_labels  \\\n",
       "0  [O, O, O, O, O, O, O, O, O, O, O, O, O, O, B-O...   \n",
       "1  [O, O, O, O, O, O, O, O, B-PREFIX, I-PREFIX, B...   \n",
       "2  [O, O, O, O, O, O, O, O, O, O, O, O, O, O, O, ...   \n",
       "3  [B-FIRSTNAME, I-FIRSTNAME, I-FIRSTNAME, O, O, ...   \n",
       "4  [O, O, O, O, O, O, O, O, O, O, O, B-AMOUNT, I-...   \n",
       "\n",
       "                                      tokenised_text  \n",
       "0  [', ex, ##kur, ##sions, ##up, ##date, :, wi, #...  \n",
       "1  [se, ##hr, gee, ##hr, ##te, [, r, ], ms, ., ke...  \n",
       "2  [', wi, ##r, best, ##ati, ##gen, no, ##ch, ein...  \n",
       "3  [dean, ##gel, ##o, ,, wi, ##r, ha, ##ben, eine...  \n",
       "4  [fin, ##an, ##z, ##ber, ##ich, ##te, des, pati...  "
      ]
     },
     "execution_count": 41,
     "metadata": {},
     "output_type": "execute_result"
    }
   ],
   "source": [
    "df.head()"
   ]
  },
  {
   "cell_type": "code",
   "execution_count": 42,
   "metadata": {},
   "outputs": [],
   "source": [
    "df.replace(\n",
    "    {\"masked_text\": {\"'\": \"\"}, \"unmasked_text\": {\"'\": \"\"}}, regex=True, inplace=True\n",
    ")"
   ]
  },
  {
   "cell_type": "code",
   "execution_count": 43,
   "metadata": {},
   "outputs": [
    {
     "data": {
      "text/html": [
       "<div>\n",
       "<style scoped>\n",
       "    .dataframe tbody tr th:only-of-type {\n",
       "        vertical-align: middle;\n",
       "    }\n",
       "\n",
       "    .dataframe tbody tr th {\n",
       "        vertical-align: top;\n",
       "    }\n",
       "\n",
       "    .dataframe thead th {\n",
       "        text-align: right;\n",
       "    }\n",
       "</style>\n",
       "<table border=\"1\" class=\"dataframe\">\n",
       "  <thead>\n",
       "    <tr style=\"text-align: right;\">\n",
       "      <th></th>\n",
       "      <th>masked_text</th>\n",
       "      <th>unmasked_text</th>\n",
       "      <th>privacy_mask</th>\n",
       "      <th>span_labels</th>\n",
       "      <th>bio_labels</th>\n",
       "      <th>tokenised_text</th>\n",
       "    </tr>\n",
       "  </thead>\n",
       "  <tbody>\n",
       "    <tr>\n",
       "      <th>0</th>\n",
       "      <td>Exkursionsupdate: Wir werden uns in [ORDINALDI...</td>\n",
       "      <td>Exkursionsupdate: Wir werden uns in Northeast ...</td>\n",
       "      <td>{'[ORDINALDIRECTION_1]': 'Northeast', '[NEARBY...</td>\n",
       "      <td>[[0, 37, 'O'], [37, 46, 'ORDINALDIRECTION_1'],...</td>\n",
       "      <td>[O, O, O, O, O, O, O, O, O, O, O, O, O, O, B-O...</td>\n",
       "      <td>[', ex, ##kur, ##sions, ##up, ##date, :, wi, #...</td>\n",
       "    </tr>\n",
       "    <tr>\n",
       "      <th>1</th>\n",
       "      <td>Sehr geehrte[r] [PREFIX_1] [LASTNAME_1], wie u...</td>\n",
       "      <td>Sehr geehrte[r] Ms. Keeling, wie unsere Aufzei...</td>\n",
       "      <td>{'[PREFIX_1]': 'Ms.', '[LASTNAME_1]': 'Keeling...</td>\n",
       "      <td>[[0, 16, 'O'], [16, 19, 'PREFIX_1'], [19, 20, ...</td>\n",
       "      <td>[O, O, O, O, O, O, O, O, B-PREFIX, I-PREFIX, B...</td>\n",
       "      <td>[se, ##hr, gee, ##hr, ##te, [, r, ], ms, ., ke...</td>\n",
       "    </tr>\n",
       "    <tr>\n",
       "      <th>2</th>\n",
       "      <td>Wir bestätigen noch einmal die Finanzen für de...</td>\n",
       "      <td>Wir bestätigen noch einmal die Finanzen für de...</td>\n",
       "      <td>{'[BIC_1]': 'MGJNCGF5XXX', '[IBAN_1]': 'BH13JD...</td>\n",
       "      <td>[[0, 105, 'O'], [105, 116, 'BIC_1'], [116, 130...</td>\n",
       "      <td>[O, O, O, O, O, O, O, O, O, O, O, O, O, O, O, ...</td>\n",
       "      <td>[', wi, ##r, best, ##ati, ##gen, no, ##ch, ein...</td>\n",
       "    </tr>\n",
       "    <tr>\n",
       "      <th>3</th>\n",
       "      <td>[FIRSTNAME_1], wir haben eine Anfrage erhalten...</td>\n",
       "      <td>Deangelo, wir haben eine Anfrage erhalten, die...</td>\n",
       "      <td>{'[FIRSTNAME_1]': 'Deangelo', '[IBAN_1]': 'XK6...</td>\n",
       "      <td>[[0, 8, 'FIRSTNAME_1'], [8, 65, 'O'], [65, 85,...</td>\n",
       "      <td>[B-FIRSTNAME, I-FIRSTNAME, I-FIRSTNAME, O, O, ...</td>\n",
       "      <td>[dean, ##gel, ##o, ,, wi, ##r, ha, ##ben, eine...</td>\n",
       "    </tr>\n",
       "    <tr>\n",
       "      <th>4</th>\n",
       "      <td>Finanzberichte des Patienten, die [AMOUNT_1] T...</td>\n",
       "      <td>Finanzberichte des Patienten, die 358k Transak...</td>\n",
       "      <td>{'[AMOUNT_1]': '358k', '[CREDITCARDISSUER_1]':...</td>\n",
       "      <td>[[0, 34, 'O'], [34, 38, 'AMOUNT_1'], [38, 68, ...</td>\n",
       "      <td>[O, O, O, O, O, O, O, O, O, O, O, B-AMOUNT, I-...</td>\n",
       "      <td>[fin, ##an, ##z, ##ber, ##ich, ##te, des, pati...</td>\n",
       "    </tr>\n",
       "  </tbody>\n",
       "</table>\n",
       "</div>"
      ],
      "text/plain": [
       "                                         masked_text  \\\n",
       "0  Exkursionsupdate: Wir werden uns in [ORDINALDI...   \n",
       "1  Sehr geehrte[r] [PREFIX_1] [LASTNAME_1], wie u...   \n",
       "2  Wir bestätigen noch einmal die Finanzen für de...   \n",
       "3  [FIRSTNAME_1], wir haben eine Anfrage erhalten...   \n",
       "4  Finanzberichte des Patienten, die [AMOUNT_1] T...   \n",
       "\n",
       "                                       unmasked_text  \\\n",
       "0  Exkursionsupdate: Wir werden uns in Northeast ...   \n",
       "1  Sehr geehrte[r] Ms. Keeling, wie unsere Aufzei...   \n",
       "2  Wir bestätigen noch einmal die Finanzen für de...   \n",
       "3  Deangelo, wir haben eine Anfrage erhalten, die...   \n",
       "4  Finanzberichte des Patienten, die 358k Transak...   \n",
       "\n",
       "                                        privacy_mask  \\\n",
       "0  {'[ORDINALDIRECTION_1]': 'Northeast', '[NEARBY...   \n",
       "1  {'[PREFIX_1]': 'Ms.', '[LASTNAME_1]': 'Keeling...   \n",
       "2  {'[BIC_1]': 'MGJNCGF5XXX', '[IBAN_1]': 'BH13JD...   \n",
       "3  {'[FIRSTNAME_1]': 'Deangelo', '[IBAN_1]': 'XK6...   \n",
       "4  {'[AMOUNT_1]': '358k', '[CREDITCARDISSUER_1]':...   \n",
       "\n",
       "                                         span_labels  \\\n",
       "0  [[0, 37, 'O'], [37, 46, 'ORDINALDIRECTION_1'],...   \n",
       "1  [[0, 16, 'O'], [16, 19, 'PREFIX_1'], [19, 20, ...   \n",
       "2  [[0, 105, 'O'], [105, 116, 'BIC_1'], [116, 130...   \n",
       "3  [[0, 8, 'FIRSTNAME_1'], [8, 65, 'O'], [65, 85,...   \n",
       "4  [[0, 34, 'O'], [34, 38, 'AMOUNT_1'], [38, 68, ...   \n",
       "\n",
       "                                          bio_labels  \\\n",
       "0  [O, O, O, O, O, O, O, O, O, O, O, O, O, O, B-O...   \n",
       "1  [O, O, O, O, O, O, O, O, B-PREFIX, I-PREFIX, B...   \n",
       "2  [O, O, O, O, O, O, O, O, O, O, O, O, O, O, O, ...   \n",
       "3  [B-FIRSTNAME, I-FIRSTNAME, I-FIRSTNAME, O, O, ...   \n",
       "4  [O, O, O, O, O, O, O, O, O, O, O, B-AMOUNT, I-...   \n",
       "\n",
       "                                      tokenised_text  \n",
       "0  [', ex, ##kur, ##sions, ##up, ##date, :, wi, #...  \n",
       "1  [se, ##hr, gee, ##hr, ##te, [, r, ], ms, ., ke...  \n",
       "2  [', wi, ##r, best, ##ati, ##gen, no, ##ch, ein...  \n",
       "3  [dean, ##gel, ##o, ,, wi, ##r, ha, ##ben, eine...  \n",
       "4  [fin, ##an, ##z, ##ber, ##ich, ##te, des, pati...  "
      ]
     },
     "execution_count": 43,
     "metadata": {},
     "output_type": "execute_result"
    }
   ],
   "source": [
    "df.head()"
   ]
  },
  {
   "cell_type": "code",
   "execution_count": 45,
   "metadata": {},
   "outputs": [],
   "source": [
    "df[[\"privacy_mask\", \"span_labels\"]] = df[[\"privacy_mask\", \"span_labels\"]].apply(\n",
    "    lambda col: col.apply(ast.literal_eval)\n",
    ")"
   ]
  },
  {
   "cell_type": "code",
   "execution_count": 46,
   "metadata": {},
   "outputs": [
    {
     "name": "stdout",
     "output_type": "stream",
     "text": [
      "<class 'str'>\n",
      "<class 'str'>\n",
      "<class 'dict'>\n",
      "<class 'list'>\n",
      "<class 'list'>\n",
      "<class 'list'>\n"
     ]
    }
   ],
   "source": [
    "for column in df.columns:\n",
    "    print(type(df[column][0]))"
   ]
  },
  {
   "cell_type": "code",
   "execution_count": 5,
   "metadata": {},
   "outputs": [],
   "source": [
    "df.masked_text.replace(\"'\", \"\", regex=True, inplace=True)\n",
    "df.unmasked_text.replace(\"'\", \"\", regex=True, inplace=True)"
   ]
  },
  {
   "cell_type": "code",
   "execution_count": 6,
   "metadata": {},
   "outputs": [],
   "source": [
    "df.privacy_mask = df.privacy_mask.apply(ast.literal_eval)\n",
    "df.span_labels = df.span_labels.apply(ast.literal_eval)"
   ]
  },
  {
   "cell_type": "code",
   "execution_count": 7,
   "metadata": {},
   "outputs": [],
   "source": [
    "# remove the ' characters in the tokenised_text\n",
    "df.tokenised_text = df.tokenised_text.apply(\n",
    "    lambda lst: [item for item in lst if item != \"'\"]\n",
    ")"
   ]
  },
  {
   "cell_type": "code",
   "execution_count": 8,
   "metadata": {},
   "outputs": [
    {
     "name": "stdout",
     "output_type": "stream",
     "text": [
      "<class 'str'>\n",
      "<class 'str'>\n",
      "<class 'dict'>\n",
      "<class 'list'>\n",
      "<class 'list'>\n",
      "<class 'list'>\n"
     ]
    }
   ],
   "source": [
    "for column in df.columns:\n",
    "    print(type(df[column][0]))"
   ]
  },
  {
   "cell_type": "code",
   "execution_count": 9,
   "metadata": {},
   "outputs": [
    {
     "data": {
      "text/html": [
       "<div>\n",
       "<style scoped>\n",
       "    .dataframe tbody tr th:only-of-type {\n",
       "        vertical-align: middle;\n",
       "    }\n",
       "\n",
       "    .dataframe tbody tr th {\n",
       "        vertical-align: top;\n",
       "    }\n",
       "\n",
       "    .dataframe thead th {\n",
       "        text-align: right;\n",
       "    }\n",
       "</style>\n",
       "<table border=\"1\" class=\"dataframe\">\n",
       "  <thead>\n",
       "    <tr style=\"text-align: right;\">\n",
       "      <th></th>\n",
       "      <th>masked_text</th>\n",
       "      <th>unmasked_text</th>\n",
       "      <th>privacy_mask</th>\n",
       "      <th>span_labels</th>\n",
       "      <th>bio_labels</th>\n",
       "      <th>tokenised_text</th>\n",
       "    </tr>\n",
       "  </thead>\n",
       "  <tbody>\n",
       "    <tr>\n",
       "      <th>0</th>\n",
       "      <td>Exkursionsupdate: Wir werden uns in [ORDINALDI...</td>\n",
       "      <td>Exkursionsupdate: Wir werden uns in Northeast ...</td>\n",
       "      <td>{'[ORDINALDIRECTION_1]': 'Northeast', '[NEARBY...</td>\n",
       "      <td>[[0, 37, O], [37, 46, ORDINALDIRECTION_1], [46...</td>\n",
       "      <td>[O, O, O, O, O, O, O, O, O, O, O, O, O, O, B-O...</td>\n",
       "      <td>[ex, ##kur, ##sions, ##up, ##date, :, wi, ##r,...</td>\n",
       "    </tr>\n",
       "    <tr>\n",
       "      <th>1</th>\n",
       "      <td>Sehr geehrte[r] [PREFIX_1] [LASTNAME_1], wie u...</td>\n",
       "      <td>Sehr geehrte[r] Ms. Keeling, wie unsere Aufzei...</td>\n",
       "      <td>{'[PREFIX_1]': 'Ms.', '[LASTNAME_1]': 'Keeling...</td>\n",
       "      <td>[[0, 16, O], [16, 19, PREFIX_1], [19, 20, O], ...</td>\n",
       "      <td>[O, O, O, O, O, O, O, O, B-PREFIX, I-PREFIX, B...</td>\n",
       "      <td>[se, ##hr, gee, ##hr, ##te, [, r, ], ms, ., ke...</td>\n",
       "    </tr>\n",
       "    <tr>\n",
       "      <th>2</th>\n",
       "      <td>Wir bestätigen noch einmal die Finanzen für de...</td>\n",
       "      <td>Wir bestätigen noch einmal die Finanzen für de...</td>\n",
       "      <td>{'[BIC_1]': 'MGJNCGF5XXX', '[IBAN_1]': 'BH13JD...</td>\n",
       "      <td>[[0, 105, O], [105, 116, BIC_1], [116, 130, O]...</td>\n",
       "      <td>[O, O, O, O, O, O, O, O, O, O, O, O, O, O, O, ...</td>\n",
       "      <td>[wi, ##r, best, ##ati, ##gen, no, ##ch, ein, #...</td>\n",
       "    </tr>\n",
       "    <tr>\n",
       "      <th>3</th>\n",
       "      <td>[FIRSTNAME_1], wir haben eine Anfrage erhalten...</td>\n",
       "      <td>Deangelo, wir haben eine Anfrage erhalten, die...</td>\n",
       "      <td>{'[FIRSTNAME_1]': 'Deangelo', '[IBAN_1]': 'XK6...</td>\n",
       "      <td>[[0, 8, FIRSTNAME_1], [8, 65, O], [65, 85, IBA...</td>\n",
       "      <td>[B-FIRSTNAME, I-FIRSTNAME, I-FIRSTNAME, O, O, ...</td>\n",
       "      <td>[dean, ##gel, ##o, ,, wi, ##r, ha, ##ben, eine...</td>\n",
       "    </tr>\n",
       "    <tr>\n",
       "      <th>4</th>\n",
       "      <td>Finanzberichte des Patienten, die [AMOUNT_1] T...</td>\n",
       "      <td>Finanzberichte des Patienten, die 358k Transak...</td>\n",
       "      <td>{'[AMOUNT_1]': '358k', '[CREDITCARDISSUER_1]':...</td>\n",
       "      <td>[[0, 34, O], [34, 38, AMOUNT_1], [38, 68, O], ...</td>\n",
       "      <td>[O, O, O, O, O, O, O, O, O, O, O, B-AMOUNT, I-...</td>\n",
       "      <td>[fin, ##an, ##z, ##ber, ##ich, ##te, des, pati...</td>\n",
       "    </tr>\n",
       "  </tbody>\n",
       "</table>\n",
       "</div>"
      ],
      "text/plain": [
       "                                         masked_text  \\\n",
       "0  Exkursionsupdate: Wir werden uns in [ORDINALDI...   \n",
       "1  Sehr geehrte[r] [PREFIX_1] [LASTNAME_1], wie u...   \n",
       "2  Wir bestätigen noch einmal die Finanzen für de...   \n",
       "3  [FIRSTNAME_1], wir haben eine Anfrage erhalten...   \n",
       "4  Finanzberichte des Patienten, die [AMOUNT_1] T...   \n",
       "\n",
       "                                       unmasked_text  \\\n",
       "0  Exkursionsupdate: Wir werden uns in Northeast ...   \n",
       "1  Sehr geehrte[r] Ms. Keeling, wie unsere Aufzei...   \n",
       "2  Wir bestätigen noch einmal die Finanzen für de...   \n",
       "3  Deangelo, wir haben eine Anfrage erhalten, die...   \n",
       "4  Finanzberichte des Patienten, die 358k Transak...   \n",
       "\n",
       "                                        privacy_mask  \\\n",
       "0  {'[ORDINALDIRECTION_1]': 'Northeast', '[NEARBY...   \n",
       "1  {'[PREFIX_1]': 'Ms.', '[LASTNAME_1]': 'Keeling...   \n",
       "2  {'[BIC_1]': 'MGJNCGF5XXX', '[IBAN_1]': 'BH13JD...   \n",
       "3  {'[FIRSTNAME_1]': 'Deangelo', '[IBAN_1]': 'XK6...   \n",
       "4  {'[AMOUNT_1]': '358k', '[CREDITCARDISSUER_1]':...   \n",
       "\n",
       "                                         span_labels  \\\n",
       "0  [[0, 37, O], [37, 46, ORDINALDIRECTION_1], [46...   \n",
       "1  [[0, 16, O], [16, 19, PREFIX_1], [19, 20, O], ...   \n",
       "2  [[0, 105, O], [105, 116, BIC_1], [116, 130, O]...   \n",
       "3  [[0, 8, FIRSTNAME_1], [8, 65, O], [65, 85, IBA...   \n",
       "4  [[0, 34, O], [34, 38, AMOUNT_1], [38, 68, O], ...   \n",
       "\n",
       "                                          bio_labels  \\\n",
       "0  [O, O, O, O, O, O, O, O, O, O, O, O, O, O, B-O...   \n",
       "1  [O, O, O, O, O, O, O, O, B-PREFIX, I-PREFIX, B...   \n",
       "2  [O, O, O, O, O, O, O, O, O, O, O, O, O, O, O, ...   \n",
       "3  [B-FIRSTNAME, I-FIRSTNAME, I-FIRSTNAME, O, O, ...   \n",
       "4  [O, O, O, O, O, O, O, O, O, O, O, B-AMOUNT, I-...   \n",
       "\n",
       "                                      tokenised_text  \n",
       "0  [ex, ##kur, ##sions, ##up, ##date, :, wi, ##r,...  \n",
       "1  [se, ##hr, gee, ##hr, ##te, [, r, ], ms, ., ke...  \n",
       "2  [wi, ##r, best, ##ati, ##gen, no, ##ch, ein, #...  \n",
       "3  [dean, ##gel, ##o, ,, wi, ##r, ha, ##ben, eine...  \n",
       "4  [fin, ##an, ##z, ##ber, ##ich, ##te, des, pati...  "
      ]
     },
     "execution_count": 9,
     "metadata": {},
     "output_type": "execute_result"
    }
   ],
   "source": [
    "df.head()"
   ]
  },
  {
   "cell_type": "code",
   "execution_count": 10,
   "metadata": {},
   "outputs": [],
   "source": [
    "df.to_json(\"../data/cleaned.json\")\n",
    "df.to_csv(\"data/cleaned.csv\")"
   ]
  },
  {
   "cell_type": "code",
   "execution_count": 11,
   "metadata": {},
   "outputs": [],
   "source": [
    "df_json = pd.read_json(\"data/cleaned.json\")\n",
    "df_csv = pd.read_csv(\"data/cleaned.csv\", index_col=0)"
   ]
  },
  {
   "cell_type": "code",
   "execution_count": 26,
   "metadata": {},
   "outputs": [
    {
     "name": "stdout",
     "output_type": "stream",
     "text": [
      "<class 'str'>\n",
      "<class 'str'>\n",
      "<class 'dict'>\n",
      "<class 'list'>\n",
      "<class 'list'>\n",
      "<class 'list'>\n"
     ]
    }
   ],
   "source": [
    "for column in df_json.columns:\n",
    "    print(type(df_json[column][0]))"
   ]
  },
  {
   "cell_type": "code",
   "execution_count": 28,
   "metadata": {},
   "outputs": [
    {
     "name": "stdout",
     "output_type": "stream",
     "text": [
      "<class 'str'>\n",
      "<class 'str'>\n",
      "<class 'str'>\n",
      "<class 'str'>\n",
      "<class 'str'>\n",
      "<class 'str'>\n"
     ]
    }
   ],
   "source": [
    "for column in df_csv.columns:\n",
    "    print(type(df_csv[column][0]))"
   ]
  }
 ],
 "metadata": {
  "kernelspec": {
   "display_name": ".venv",
   "language": "python",
   "name": "python3"
  },
  "language_info": {
   "codemirror_mode": {
    "name": "ipython",
    "version": 3
   },
   "file_extension": ".py",
   "mimetype": "text/x-python",
   "name": "python",
   "nbconvert_exporter": "python",
   "pygments_lexer": "ipython3",
   "version": "3.11.0"
  }
 },
 "nbformat": 4,
 "nbformat_minor": 2
}
