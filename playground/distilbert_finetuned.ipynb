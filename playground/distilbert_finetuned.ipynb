{
 "cells": [
  {
   "cell_type": "markdown",
   "metadata": {},
   "source": [
    "# ----------- DistilBERT - finetuned_ai4privacy_v2 -----------"
   ]
  },
  {
   "cell_type": "markdown",
   "metadata": {},
   "source": [
    "DistilBERT is a streamlined version of the BERT model, designed for faster training and inferencing on off-cloud servers, making it a suitable choice for applications with constraints on computational resources (Wei et al., 2022). As a distilled version of BERT, DistilBERT maintains a significant proportion of the original model's capabilities, including 97% of BERT's language understanding proficiency, while offering the advantages of being 60% faster and 40% smaller (Sanh et al., 2019).\n",
    "\n",
    "The model has demonstrated its efficacy across various applications, such as suicidal intention detection in social media posts (Ananthakrishnan et al., 2022) and opinion holder detection (Al-Mahmud & Shimada, 2022). This versatility is attributable to its robust foundational architecture derived from BERT, coupled with enhancements in efficiency and speed."
   ]
  },
  {
   "cell_type": "markdown",
   "metadata": {},
   "source": [
    "1. Wei, F., Yang, J., Mao, Q., Qin, H., & Dabrowski, A. (2022). An Empirical Comparison of DistilBERT, Longformer and Logistic Regression for Predictive Coding. 2022 IEEE International Conference on Big Data (Big Data). \n",
    "\n",
    "    - URL: https://ieeexplore.ieee.org/document/10020486\n",
    "    \n",
    "2. Sanh, V., Debut, L., Chaumond, J., & Wolf, T. (2019). DistilBERT, a distilled version of BERT: smaller, faster, cheaper and lighter. ArXiv. \n",
    "\n",
    "    - URL: https://www.semanticscholar.org/paper/DistilBERT%2C-a-distilled-version-of-BERT%3A-smaller%2C-Sanh-Debut/a54b56af24bb4873ed0163b77df63b92bd018ddc\n",
    "\n",
    "3. Ananthakrishnan, G., Jayaraman, A. K., Trueman, T., Mitra, S., A K, A., & Murugappan, A. (2022). Suicidal Intention Detection in Tweets Using BERT-Based Transformers. 2022 International Conference on Computing, Communication, and Intelligent Systems (ICCCIS). \n",
    "\n",
    "    - URL: https://ieeexplore.ieee.org/document/10037677\n",
    "\n",
    "4. Al-Mahmud, & Shimada, K. (2022). Dataset Construction and Classification Based on Pre-trained Models for Opinion Holder Detection. 2022 12th International Congress on Advanced Applied Informatics (IIAI-AAI). \n",
    "\n",
    "    - URL: https://ieeexplore.ieee.org/document/9894524"
   ]
  },
  {
   "cell_type": "markdown",
   "metadata": {},
   "source": [
    "### DistilBERT:\n",
    "Paper: https://arxiv.org/abs/1910.01108\n",
    "\n",
    "Huggingface: https://huggingface.co/distilbert-base-uncased\n",
    "\n",
    "Documentation: https://huggingface.co/docs/transformers/main/en/model_doc/distilbert\n",
    "\n",
    "### ai4privacy:\n",
    "Huggingface: https://huggingface.co/ai4privacy\n",
    "\n",
    "Model: https://huggingface.co/Isotonic/distilbert_finetuned_ai4privacy_v2\n",
    "\n",
    "GitHub: https://github.com/Sripaad/ai4privacy\n"
   ]
  },
  {
   "cell_type": "code",
   "execution_count": 1,
   "metadata": {},
   "outputs": [
    {
     "data": {
      "text/html": [
       "<style>.container { width:100% !important; }</style>"
      ],
      "text/plain": [
       "<IPython.core.display.HTML object>"
      ]
     },
     "metadata": {},
     "output_type": "display_data"
    }
   ],
   "source": [
    "from transformers import pipeline, AutoTokenizer, AutoModelForTokenClassification\n",
    "import pandas as pd\n",
    "from sklearn.metrics import precision_score, recall_score, f1_score\n",
    "from IPython.display import display, HTML\n",
    "from collections import Counter\n",
    "import numpy as np\n",
    "\n",
    "display(HTML(\"<style>.container { width:100% !important; }</style>\"))"
   ]
  },
  {
   "cell_type": "code",
   "execution_count": 2,
   "metadata": {},
   "outputs": [],
   "source": [
    "model_name = \"Isotonic/distilbert_finetuned_ai4privacy_v2\"\n",
    "tokenizer = AutoTokenizer.from_pretrained(model_name)\n",
    "model = AutoModelForTokenClassification.from_pretrained(model_name)"
   ]
  },
  {
   "cell_type": "code",
   "execution_count": 3,
   "metadata": {},
   "outputs": [
    {
     "data": {
      "text/plain": [
       "[{'entity': 'B-FIRSTNAME',\n",
       "  'score': 0.86211693,\n",
       "  'index': 4,\n",
       "  'word': 'max',\n",
       "  'start': 11,\n",
       "  'end': 14},\n",
       " {'entity': 'B-STATE',\n",
       "  'score': 0.9750011,\n",
       "  'index': 8,\n",
       "  'word': 'frankfurt',\n",
       "  'start': 27,\n",
       "  'end': 36},\n",
       " {'entity': 'B-STATE',\n",
       "  'score': 0.9271666,\n",
       "  'index': 16,\n",
       "  'word': 'mannheim',\n",
       "  'start': 67,\n",
       "  'end': 75}]"
      ]
     },
     "execution_count": 3,
     "metadata": {},
     "output_type": "execute_result"
    }
   ],
   "source": [
    "nlp = pipeline(\"token-classification\", model=model, tokenizer=tokenizer)\n",
    "\n",
    "text = \"My name is Max and im from Frankfurt. I study at the University of Mannheim.\"\n",
    "results = nlp(text)\n",
    "\n",
    "results\n"
   ]
  },
  {
   "cell_type": "code",
   "execution_count": 4,
   "metadata": {},
   "outputs": [
    {
     "name": "stdout",
     "output_type": "stream",
     "text": [
      "{0: 'O', 1: 'B-PHONEIMEI', 2: 'I-PHONEIMEI', 3: 'B-JOBAREA', 4: 'B-FIRSTNAME', 5: 'I-FIRSTNAME', 6: 'B-VEHICLEVIN', 7: 'I-VEHICLEVIN', 8: 'B-AGE', 9: 'B-GENDER', 10: 'I-GENDER', 11: 'B-HEIGHT', 12: 'I-HEIGHT', 13: 'B-BUILDINGNUMBER', 14: 'I-BUILDINGNUMBER', 15: 'B-MASKEDNUMBER', 16: 'I-MASKEDNUMBER', 17: 'B-PASSWORD', 18: 'I-PASSWORD', 19: 'B-DOB', 20: 'I-DOB', 21: 'B-IPV6', 22: 'I-IPV6', 23: 'B-NEARBYGPSCOORDINATE', 24: 'I-NEARBYGPSCOORDINATE', 25: 'B-USERAGENT', 26: 'I-USERAGENT', 27: 'B-TIME', 28: 'I-TIME', 29: 'B-JOBTITLE', 30: 'I-JOBTITLE', 31: 'B-COUNTY', 32: 'B-EMAIL', 33: 'I-EMAIL', 34: 'B-ACCOUNTNUMBER', 35: 'I-ACCOUNTNUMBER', 36: 'B-PIN', 37: 'I-PIN', 38: 'B-EYECOLOR', 39: 'I-EYECOLOR', 40: 'B-LASTNAME', 41: 'I-LASTNAME', 42: 'I-JOBAREA', 43: 'B-IPV4', 44: 'I-IPV4', 45: 'B-DATE', 46: 'I-DATE', 47: 'B-STREET', 48: 'I-STREET', 49: 'B-CITY', 50: 'I-CITY', 51: 'B-PREFIX', 52: 'I-PREFIX', 53: 'B-CREDITCARDISSUER', 54: 'B-CREDITCARDNUMBER', 55: 'I-CREDITCARDNUMBER', 56: 'I-CREDITCARDISSUER', 57: 'B-MIDDLENAME', 58: 'B-STATE', 59: 'I-STATE', 60: 'B-VEHICLEVRM', 61: 'I-VEHICLEVRM', 62: 'B-ORDINALDIRECTION', 63: 'B-SEX', 64: 'B-JOBTYPE', 65: 'I-JOBTYPE', 66: 'B-CURRENCYCODE', 67: 'I-CURRENCYCODE', 68: 'B-CURRENCYSYMBOL', 69: 'I-AMOUNT', 70: 'B-ACCOUNTNAME', 71: 'I-ACCOUNTNAME', 72: 'B-BITCOINADDRESS', 73: 'I-BITCOINADDRESS', 74: 'B-LITECOINADDRESS', 75: 'I-LITECOINADDRESS', 76: 'B-PHONENUMBER', 77: 'I-PHONENUMBER', 78: 'B-MAC', 79: 'I-MAC', 80: 'B-CURRENCY', 81: 'B-IBAN', 82: 'I-IBAN', 83: 'B-COMPANYNAME', 84: 'I-COMPANYNAME', 85: 'B-CURRENCYNAME', 86: 'I-CURRENCYNAME', 87: 'I-CURRENCYSYMBOL', 88: 'B-ZIPCODE', 89: 'I-ZIPCODE', 90: 'B-SSN', 91: 'I-SSN', 92: 'B-AMOUNT', 93: 'I-CURRENCY', 94: 'B-URL', 95: 'I-URL', 96: 'B-IP', 97: 'I-IP', 98: 'B-SECONDARYADDRESS', 99: 'I-SECONDARYADDRESS', 100: 'B-USERNAME', 101: 'I-USERNAME', 102: 'B-ETHEREUMADDRESS', 103: 'I-ETHEREUMADDRESS', 104: 'B-CREDITCARDCVV', 105: 'I-CREDITCARDCVV', 106: 'I-COUNTY', 107: 'I-AGE', 108: 'I-MIDDLENAME', 109: 'B-BIC', 110: 'I-BIC'}\n"
     ]
    }
   ],
   "source": [
    "labels = model.config.id2label\n",
    "print(labels)"
   ]
  },
  {
   "cell_type": "code",
   "execution_count": 5,
   "metadata": {},
   "outputs": [
    {
     "data": {
      "text/html": [
       "<div>\n",
       "<style scoped>\n",
       "    .dataframe tbody tr th:only-of-type {\n",
       "        vertical-align: middle;\n",
       "    }\n",
       "\n",
       "    .dataframe tbody tr th {\n",
       "        vertical-align: top;\n",
       "    }\n",
       "\n",
       "    .dataframe thead th {\n",
       "        text-align: right;\n",
       "    }\n",
       "</style>\n",
       "<table border=\"1\" class=\"dataframe\">\n",
       "  <thead>\n",
       "    <tr style=\"text-align: right;\">\n",
       "      <th></th>\n",
       "      <th>masked_text</th>\n",
       "      <th>unmasked_text</th>\n",
       "      <th>privacy_mask</th>\n",
       "      <th>span_labels</th>\n",
       "      <th>bio_labels</th>\n",
       "      <th>tokenised_text</th>\n",
       "    </tr>\n",
       "  </thead>\n",
       "  <tbody>\n",
       "    <tr>\n",
       "      <th>0</th>\n",
       "      <td>A students assessment was found on device bear...</td>\n",
       "      <td>A students assessment was found on device bear...</td>\n",
       "      <td>{'[PHONEIMEI_1]': '06-184755-866851-3', '[JOBA...</td>\n",
       "      <td>[[0, 57, O], [57, 75, PHONEIMEI_1], [75, 138, ...</td>\n",
       "      <td>[O, O, O, O, O, O, O, O, O, O, O, O, O, B-PHON...</td>\n",
       "      <td>[a, student, s, assessment, was, found, on, de...</td>\n",
       "    </tr>\n",
       "    <tr>\n",
       "      <th>1</th>\n",
       "      <td>Dear [FIRSTNAME_1], as per our records, your l...</td>\n",
       "      <td>Dear Omer, as per our records, your license 78...</td>\n",
       "      <td>{'[FIRSTNAME_1]': 'Omer', '[VEHICLEVIN_1]': '7...</td>\n",
       "      <td>[[0, 5, O], [5, 9, FIRSTNAME_1], [9, 44, O], [...</td>\n",
       "      <td>[O, B-FIRSTNAME, I-FIRSTNAME, O, O, O, O, O, O...</td>\n",
       "      <td>[dear, om, ##er, ,, as, per, our, records, ,, ...</td>\n",
       "    </tr>\n",
       "    <tr>\n",
       "      <th>2</th>\n",
       "      <td>[FIRSTNAME_1] could you please share your reco...</td>\n",
       "      <td>Kattie could you please share your recomndatio...</td>\n",
       "      <td>{'[FIRSTNAME_1]': 'Kattie', '[AGE_1]': '72', '...</td>\n",
       "      <td>[[0, 6, FIRSTNAME_1], [6, 75, O], [75, 77, AGE...</td>\n",
       "      <td>[B-FIRSTNAME, I-FIRSTNAME, O, O, O, O, O, O, O...</td>\n",
       "      <td>[kat, ##tie, could, you, please, share, your, ...</td>\n",
       "    </tr>\n",
       "    <tr>\n",
       "      <th>3</th>\n",
       "      <td>Emergency supplies in [BUILDINGNUMBER_1] need ...</td>\n",
       "      <td>Emergency supplies in 16356 need a refill. Use...</td>\n",
       "      <td>{'[BUILDINGNUMBER_1]': '16356', '[MASKEDNUMBER...</td>\n",
       "      <td>[[0, 22, O], [22, 27, BUILDINGNUMBER_1], [27, ...</td>\n",
       "      <td>[O, O, O, B-BUILDINGNUMBER, I-BUILDINGNUMBER, ...</td>\n",
       "      <td>[emergency, supplies, in, 1635, ##6, need, a, ...</td>\n",
       "    </tr>\n",
       "    <tr>\n",
       "      <th>4</th>\n",
       "      <td>The [AGE_1] old child at [BUILDINGNUMBER_1], h...</td>\n",
       "      <td>The 88 old child at 5862, has showcased an unu...</td>\n",
       "      <td>{'[AGE_1]': '88', '[BUILDINGNUMBER_1]': '5862'...</td>\n",
       "      <td>[[0, 4, O], [4, 6, AGE_1], [6, 20, O], [20, 24...</td>\n",
       "      <td>[O, B-AGE, O, O, O, B-BUILDINGNUMBER, I-BUILDI...</td>\n",
       "      <td>[the, 88, old, child, at, 58, ##6, ##2, ,, has...</td>\n",
       "    </tr>\n",
       "    <tr>\n",
       "      <th>...</th>\n",
       "      <td>...</td>\n",
       "      <td>...</td>\n",
       "      <td>...</td>\n",
       "      <td>...</td>\n",
       "      <td>...</td>\n",
       "      <td>...</td>\n",
       "    </tr>\n",
       "    <tr>\n",
       "      <th>43496</th>\n",
       "      <td>Hello [FIRSTNAME_1], your cognitive therapy ap...</td>\n",
       "      <td>Hello Nellie, your cognitive therapy appointme...</td>\n",
       "      <td>{'[FIRSTNAME_1]': 'Nellie', '[DATE_1]': '8/21'...</td>\n",
       "      <td>[[0, 6, O], [6, 12, FIRSTNAME_1], [12, 66, O],...</td>\n",
       "      <td>[O, B-FIRSTNAME, O, O, O, O, O, O, O, O, B-DAT...</td>\n",
       "      <td>[hello, nellie, ,, your, cognitive, therapy, a...</td>\n",
       "    </tr>\n",
       "    <tr>\n",
       "      <th>43497</th>\n",
       "      <td>Dear [FIRSTNAME_1], we appreciate your active ...</td>\n",
       "      <td>Dear Jalon, we appreciate your active involvem...</td>\n",
       "      <td>{'[FIRSTNAME_1]': 'Jalon', '[CREDITCARDNUMBER_...</td>\n",
       "      <td>[[0, 5, O], [5, 10, FIRSTNAME_1], [10, 159, O]...</td>\n",
       "      <td>[O, B-FIRSTNAME, I-FIRSTNAME, O, O, O, O, O, O...</td>\n",
       "      <td>[dear, ja, ##lon, ,, we, appreciate, your, act...</td>\n",
       "    </tr>\n",
       "    <tr>\n",
       "      <th>43498</th>\n",
       "      <td>Dear [SEX_1] at [ZIPCODE_1], we are raising fu...</td>\n",
       "      <td>Dear Female at 32363-2779, we are raising fund...</td>\n",
       "      <td>{'[SEX_1]': 'Female', '[ZIPCODE_1]': '32363-27...</td>\n",
       "      <td>[[0, 5, O], [5, 11, SEX_1], [11, 15, O], [15, ...</td>\n",
       "      <td>[O, B-SEX, O, B-ZIPCODE, I-ZIPCODE, I-ZIPCODE,...</td>\n",
       "      <td>[dear, female, at, 323, ##6, ##3, -, 277, ##9,...</td>\n",
       "    </tr>\n",
       "    <tr>\n",
       "      <th>43499</th>\n",
       "      <td>Hello [FIRSTNAME_1], we encourage you to pay t...</td>\n",
       "      <td>Hello Tito, we encourage you to pay the fees o...</td>\n",
       "      <td>{'[FIRSTNAME_1]': 'Tito', '[ETHEREUMADDRESS_1]...</td>\n",
       "      <td>[[0, 6, O], [6, 10, FIRSTNAME_1], [10, 137, O]...</td>\n",
       "      <td>[O, B-FIRSTNAME, O, O, O, O, O, O, O, O, O, O,...</td>\n",
       "      <td>[hello, tito, ,, we, encourage, you, to, pay, ...</td>\n",
       "    </tr>\n",
       "    <tr>\n",
       "      <th>43500</th>\n",
       "      <td>Due to suspect transactions, the payment throu...</td>\n",
       "      <td>Due to suspect transactions, the payment throu...</td>\n",
       "      <td>{'[MASKEDNUMBER_1]': '7677516432228268', '[CRE...</td>\n",
       "      <td>[[0, 70, O], [70, 86, MASKEDNUMBER_1], [86, 12...</td>\n",
       "      <td>[O, O, O, O, O, O, O, O, O, O, O, O, B-MASKEDN...</td>\n",
       "      <td>[due, to, suspect, transactions, ,, the, payme...</td>\n",
       "    </tr>\n",
       "  </tbody>\n",
       "</table>\n",
       "<p>43501 rows × 6 columns</p>\n",
       "</div>"
      ],
      "text/plain": [
       "                                             masked_text  \\\n",
       "0      A students assessment was found on device bear...   \n",
       "1      Dear [FIRSTNAME_1], as per our records, your l...   \n",
       "2      [FIRSTNAME_1] could you please share your reco...   \n",
       "3      Emergency supplies in [BUILDINGNUMBER_1] need ...   \n",
       "4      The [AGE_1] old child at [BUILDINGNUMBER_1], h...   \n",
       "...                                                  ...   \n",
       "43496  Hello [FIRSTNAME_1], your cognitive therapy ap...   \n",
       "43497  Dear [FIRSTNAME_1], we appreciate your active ...   \n",
       "43498  Dear [SEX_1] at [ZIPCODE_1], we are raising fu...   \n",
       "43499  Hello [FIRSTNAME_1], we encourage you to pay t...   \n",
       "43500  Due to suspect transactions, the payment throu...   \n",
       "\n",
       "                                           unmasked_text  \\\n",
       "0      A students assessment was found on device bear...   \n",
       "1      Dear Omer, as per our records, your license 78...   \n",
       "2      Kattie could you please share your recomndatio...   \n",
       "3      Emergency supplies in 16356 need a refill. Use...   \n",
       "4      The 88 old child at 5862, has showcased an unu...   \n",
       "...                                                  ...   \n",
       "43496  Hello Nellie, your cognitive therapy appointme...   \n",
       "43497  Dear Jalon, we appreciate your active involvem...   \n",
       "43498  Dear Female at 32363-2779, we are raising fund...   \n",
       "43499  Hello Tito, we encourage you to pay the fees o...   \n",
       "43500  Due to suspect transactions, the payment throu...   \n",
       "\n",
       "                                            privacy_mask  \\\n",
       "0      {'[PHONEIMEI_1]': '06-184755-866851-3', '[JOBA...   \n",
       "1      {'[FIRSTNAME_1]': 'Omer', '[VEHICLEVIN_1]': '7...   \n",
       "2      {'[FIRSTNAME_1]': 'Kattie', '[AGE_1]': '72', '...   \n",
       "3      {'[BUILDINGNUMBER_1]': '16356', '[MASKEDNUMBER...   \n",
       "4      {'[AGE_1]': '88', '[BUILDINGNUMBER_1]': '5862'...   \n",
       "...                                                  ...   \n",
       "43496  {'[FIRSTNAME_1]': 'Nellie', '[DATE_1]': '8/21'...   \n",
       "43497  {'[FIRSTNAME_1]': 'Jalon', '[CREDITCARDNUMBER_...   \n",
       "43498  {'[SEX_1]': 'Female', '[ZIPCODE_1]': '32363-27...   \n",
       "43499  {'[FIRSTNAME_1]': 'Tito', '[ETHEREUMADDRESS_1]...   \n",
       "43500  {'[MASKEDNUMBER_1]': '7677516432228268', '[CRE...   \n",
       "\n",
       "                                             span_labels  \\\n",
       "0      [[0, 57, O], [57, 75, PHONEIMEI_1], [75, 138, ...   \n",
       "1      [[0, 5, O], [5, 9, FIRSTNAME_1], [9, 44, O], [...   \n",
       "2      [[0, 6, FIRSTNAME_1], [6, 75, O], [75, 77, AGE...   \n",
       "3      [[0, 22, O], [22, 27, BUILDINGNUMBER_1], [27, ...   \n",
       "4      [[0, 4, O], [4, 6, AGE_1], [6, 20, O], [20, 24...   \n",
       "...                                                  ...   \n",
       "43496  [[0, 6, O], [6, 12, FIRSTNAME_1], [12, 66, O],...   \n",
       "43497  [[0, 5, O], [5, 10, FIRSTNAME_1], [10, 159, O]...   \n",
       "43498  [[0, 5, O], [5, 11, SEX_1], [11, 15, O], [15, ...   \n",
       "43499  [[0, 6, O], [6, 10, FIRSTNAME_1], [10, 137, O]...   \n",
       "43500  [[0, 70, O], [70, 86, MASKEDNUMBER_1], [86, 12...   \n",
       "\n",
       "                                              bio_labels  \\\n",
       "0      [O, O, O, O, O, O, O, O, O, O, O, O, O, B-PHON...   \n",
       "1      [O, B-FIRSTNAME, I-FIRSTNAME, O, O, O, O, O, O...   \n",
       "2      [B-FIRSTNAME, I-FIRSTNAME, O, O, O, O, O, O, O...   \n",
       "3      [O, O, O, B-BUILDINGNUMBER, I-BUILDINGNUMBER, ...   \n",
       "4      [O, B-AGE, O, O, O, B-BUILDINGNUMBER, I-BUILDI...   \n",
       "...                                                  ...   \n",
       "43496  [O, B-FIRSTNAME, O, O, O, O, O, O, O, O, B-DAT...   \n",
       "43497  [O, B-FIRSTNAME, I-FIRSTNAME, O, O, O, O, O, O...   \n",
       "43498  [O, B-SEX, O, B-ZIPCODE, I-ZIPCODE, I-ZIPCODE,...   \n",
       "43499  [O, B-FIRSTNAME, O, O, O, O, O, O, O, O, O, O,...   \n",
       "43500  [O, O, O, O, O, O, O, O, O, O, O, O, B-MASKEDN...   \n",
       "\n",
       "                                          tokenised_text  \n",
       "0      [a, student, s, assessment, was, found, on, de...  \n",
       "1      [dear, om, ##er, ,, as, per, our, records, ,, ...  \n",
       "2      [kat, ##tie, could, you, please, share, your, ...  \n",
       "3      [emergency, supplies, in, 1635, ##6, need, a, ...  \n",
       "4      [the, 88, old, child, at, 58, ##6, ##2, ,, has...  \n",
       "...                                                  ...  \n",
       "43496  [hello, nellie, ,, your, cognitive, therapy, a...  \n",
       "43497  [dear, ja, ##lon, ,, we, appreciate, your, act...  \n",
       "43498  [dear, female, at, 323, ##6, ##3, -, 277, ##9,...  \n",
       "43499  [hello, tito, ,, we, encourage, you, to, pay, ...  \n",
       "43500  [due, to, suspect, transactions, ,, the, payme...  \n",
       "\n",
       "[43501 rows x 6 columns]"
      ]
     },
     "execution_count": 5,
     "metadata": {},
     "output_type": "execute_result"
    }
   ],
   "source": [
    "data = pd.read_json(\"../../data/dataset_english.json\")\n",
    "data"
   ]
  },
  {
   "cell_type": "code",
   "execution_count": 6,
   "metadata": {},
   "outputs": [
    {
     "data": {
      "text/html": [
       "<div>\n",
       "<style scoped>\n",
       "    .dataframe tbody tr th:only-of-type {\n",
       "        vertical-align: middle;\n",
       "    }\n",
       "\n",
       "    .dataframe tbody tr th {\n",
       "        vertical-align: top;\n",
       "    }\n",
       "\n",
       "    .dataframe thead th {\n",
       "        text-align: right;\n",
       "    }\n",
       "</style>\n",
       "<table border=\"1\" class=\"dataframe\">\n",
       "  <thead>\n",
       "    <tr style=\"text-align: right;\">\n",
       "      <th></th>\n",
       "      <th>privacy_mask</th>\n",
       "      <th>data_results</th>\n",
       "    </tr>\n",
       "  </thead>\n",
       "  <tbody>\n",
       "    <tr>\n",
       "      <th>0</th>\n",
       "      <td>{'[PHONEIMEI_1]': '06-184755-866851-3', '[JOBA...</td>\n",
       "      <td>{'PHONEIMEI': '06-184755-866851-3', 'JOBAREA':...</td>\n",
       "    </tr>\n",
       "    <tr>\n",
       "      <th>1</th>\n",
       "      <td>{'[FIRSTNAME_1]': 'Omer', '[VEHICLEVIN_1]': '7...</td>\n",
       "      <td>{'FIRSTNAME': 'Omer', 'VEHICLEVIN': '78B5R2MVF...</td>\n",
       "    </tr>\n",
       "    <tr>\n",
       "      <th>2</th>\n",
       "      <td>{'[FIRSTNAME_1]': 'Kattie', '[AGE_1]': '72', '...</td>\n",
       "      <td>{'FIRSTNAME': 'Kattie', 'AGE': '72', 'GENDER':...</td>\n",
       "    </tr>\n",
       "    <tr>\n",
       "      <th>3</th>\n",
       "      <td>{'[BUILDINGNUMBER_1]': '16356', '[MASKEDNUMBER...</td>\n",
       "      <td>{'BUILDINGNUMBER': '16356', 'MASKEDNUMBER': '5...</td>\n",
       "    </tr>\n",
       "    <tr>\n",
       "      <th>4</th>\n",
       "      <td>{'[AGE_1]': '88', '[BUILDINGNUMBER_1]': '5862'...</td>\n",
       "      <td>{'AGE': '88', 'BUILDINGNUMBER': '5862', 'PASSW...</td>\n",
       "    </tr>\n",
       "  </tbody>\n",
       "</table>\n",
       "</div>"
      ],
      "text/plain": [
       "                                        privacy_mask  \\\n",
       "0  {'[PHONEIMEI_1]': '06-184755-866851-3', '[JOBA...   \n",
       "1  {'[FIRSTNAME_1]': 'Omer', '[VEHICLEVIN_1]': '7...   \n",
       "2  {'[FIRSTNAME_1]': 'Kattie', '[AGE_1]': '72', '...   \n",
       "3  {'[BUILDINGNUMBER_1]': '16356', '[MASKEDNUMBER...   \n",
       "4  {'[AGE_1]': '88', '[BUILDINGNUMBER_1]': '5862'...   \n",
       "\n",
       "                                        data_results  \n",
       "0  {'PHONEIMEI': '06-184755-866851-3', 'JOBAREA':...  \n",
       "1  {'FIRSTNAME': 'Omer', 'VEHICLEVIN': '78B5R2MVF...  \n",
       "2  {'FIRSTNAME': 'Kattie', 'AGE': '72', 'GENDER':...  \n",
       "3  {'BUILDINGNUMBER': '16356', 'MASKEDNUMBER': '5...  \n",
       "4  {'AGE': '88', 'BUILDINGNUMBER': '5862', 'PASSW...  "
      ]
     },
     "execution_count": 6,
     "metadata": {},
     "output_type": "execute_result"
    }
   ],
   "source": [
    "def convert_privacy_mask(privacy_mask):\n",
    "    new_dict = {}\n",
    "    for key, value in privacy_mask.items():\n",
    "        new_key = key.strip('[]').split('_')[0]\n",
    "        new_dict[new_key] = value\n",
    "    return new_dict\n",
    "\n",
    "data['data_results'] = data['privacy_mask'].apply(convert_privacy_mask)\n",
    "\n",
    "data[['privacy_mask', 'data_results']].head()\n"
   ]
  },
  {
   "cell_type": "code",
   "execution_count": 41,
   "metadata": {},
   "outputs": [],
   "source": [
    "data_small = data.head(3)"
   ]
  },
  {
   "cell_type": "code",
   "execution_count": 42,
   "metadata": {},
   "outputs": [
    {
     "name": "stderr",
     "output_type": "stream",
     "text": [
      "/var/folders/vm/vj250x0s5q9bj_4nnx_z8mcc0000gn/T/ipykernel_74012/3152019898.py:26: SettingWithCopyWarning: \n",
      "A value is trying to be set on a copy of a slice from a DataFrame.\n",
      "Try using .loc[row_indexer,col_indexer] = value instead\n",
      "\n",
      "See the caveats in the documentation: https://pandas.pydata.org/pandas-docs/stable/user_guide/indexing.html#returning-a-view-versus-a-copy\n",
      "  data_small['model_results'] = model_simplified_results\n"
     ]
    }
   ],
   "source": [
    "# an empty list to store the simplified results\n",
    "model_simplified_results = []\n",
    "\n",
    "# through the rows of the df\n",
    "for index, row in data_small.iterrows():\n",
    "    text = row['unmasked_text']\n",
    "    # Apply the model to the text\n",
    "    result = nlp(text)\n",
    "\n",
    "    # Simplify the model output and extract entity and word\n",
    "    simplified_dict = {}\n",
    "    for item in result:\n",
    "        # Remove the \"B-\" or \"I-\" or \"-O\" prefix from the entity label\n",
    "        entity = item['entity'][2:]\n",
    "        word = item['word']\n",
    "        # Accumulate words for each entity, separating them with space\n",
    "        simplified_dict[entity] = simplified_dict.get(entity, \"\") + \" \" + word\n",
    "\n",
    "    # Strip extra spaces from the accumulated words for each entity\n",
    "    simplified_dict = {k: v.strip() for k, v in simplified_dict.items()}\n",
    "\n",
    "    # Append the simplified dictionary to the list\n",
    "    model_simplified_results.append(simplified_dict)\n",
    "\n",
    "# Add new column with results of the model\n",
    "data_small['model_results'] = model_simplified_results\n"
   ]
  },
  {
   "cell_type": "code",
   "execution_count": 43,
   "metadata": {},
   "outputs": [
    {
     "data": {
      "text/html": [
       "<div>\n",
       "<style scoped>\n",
       "    .dataframe tbody tr th:only-of-type {\n",
       "        vertical-align: middle;\n",
       "    }\n",
       "\n",
       "    .dataframe tbody tr th {\n",
       "        vertical-align: top;\n",
       "    }\n",
       "\n",
       "    .dataframe thead th {\n",
       "        text-align: right;\n",
       "    }\n",
       "</style>\n",
       "<table border=\"1\" class=\"dataframe\">\n",
       "  <thead>\n",
       "    <tr style=\"text-align: right;\">\n",
       "      <th></th>\n",
       "      <th>unmasked_text</th>\n",
       "      <th>masked_text</th>\n",
       "      <th>data_results</th>\n",
       "      <th>model_results</th>\n",
       "    </tr>\n",
       "  </thead>\n",
       "  <tbody>\n",
       "    <tr>\n",
       "      <th>0</th>\n",
       "      <td>A students assessment was found on device bear...</td>\n",
       "      <td>A students assessment was found on device bear...</td>\n",
       "      <td>{'PHONEIMEI': '06-184755-866851-3', 'JOBAREA':...</td>\n",
       "      <td>{'PHONEIMEI': '06 - 1847 ##55 - 86 ##6 ##85 ##...</td>\n",
       "    </tr>\n",
       "    <tr>\n",
       "      <th>1</th>\n",
       "      <td>Dear Omer, as per our records, your license 78...</td>\n",
       "      <td>Dear [FIRSTNAME_1], as per our records, your l...</td>\n",
       "      <td>{'FIRSTNAME': 'Omer', 'VEHICLEVIN': '78B5R2MVF...</td>\n",
       "      <td>{'FIRSTNAME': 'om ##er', 'SSN': '78 ##b', 'DOB...</td>\n",
       "    </tr>\n",
       "    <tr>\n",
       "      <th>2</th>\n",
       "      <td>Kattie could you please share your recomndatio...</td>\n",
       "      <td>[FIRSTNAME_1] could you please share your reco...</td>\n",
       "      <td>{'FIRSTNAME': 'Kattie', 'AGE': '72', 'GENDER':...</td>\n",
       "      <td>{'FIRSTNAME': 'kat ##tie', 'AGE': '72', 'GENDE...</td>\n",
       "    </tr>\n",
       "  </tbody>\n",
       "</table>\n",
       "</div>"
      ],
      "text/plain": [
       "                                       unmasked_text                                        masked_text                                       data_results                                      model_results\n",
       "0  A students assessment was found on device bear...  A students assessment was found on device bear...  {'PHONEIMEI': '06-184755-866851-3', 'JOBAREA':...  {'PHONEIMEI': '06 - 1847 ##55 - 86 ##6 ##85 ##...\n",
       "1  Dear Omer, as per our records, your license 78...  Dear [FIRSTNAME_1], as per our records, your l...  {'FIRSTNAME': 'Omer', 'VEHICLEVIN': '78B5R2MVF...  {'FIRSTNAME': 'om ##er', 'SSN': '78 ##b', 'DOB...\n",
       "2  Kattie could you please share your recomndatio...  [FIRSTNAME_1] could you please share your reco...  {'FIRSTNAME': 'Kattie', 'AGE': '72', 'GENDER':...  {'FIRSTNAME': 'kat ##tie', 'AGE': '72', 'GENDE..."
      ]
     },
     "execution_count": 43,
     "metadata": {},
     "output_type": "execute_result"
    }
   ],
   "source": [
    "data_small[[\"unmasked_text\", \"masked_text\", \"data_results\", \"model_results\"]]"
   ]
  },
  {
   "cell_type": "code",
   "execution_count": 44,
   "metadata": {},
   "outputs": [
    {
     "name": "stdout",
     "output_type": "stream",
     "text": [
      "data_results\n",
      "<class 'dict'>    3\n",
      "Name: count, dtype: int64\n",
      "model_results\n",
      "<class 'dict'>    3\n",
      "Name: count, dtype: int64\n"
     ]
    }
   ],
   "source": [
    "print(data_small['data_results'].apply(type).value_counts())\n",
    "print(data_small['model_results'].apply(type).value_counts())"
   ]
  },
  {
   "cell_type": "code",
   "execution_count": 45,
   "metadata": {},
   "outputs": [
    {
     "data": {
      "text/plain": [
       "['PHONEIMEI', 'VEHICLEVIN', 'JOBAREA', 'GENDER', 'FIRSTNAME', 'HEIGHT', 'AGE']"
      ]
     },
     "execution_count": 45,
     "metadata": {},
     "output_type": "execute_result"
    }
   ],
   "source": [
    "def flatten_results(data, entity_types):\n",
    "    # lists to store flattened true and predicted values\n",
    "    y_true = []\n",
    "    y_pred = []\n",
    "\n",
    "    for _, row in data.iterrows():\n",
    "        true_entities = row['data_results']  # Actual entities from the data \n",
    "        predicted_entities = row['model_results'] # Predicted entities from model\n",
    "\n",
    "        for entity in entity_types:\n",
    "            actual = true_entities.get(entity, '')\n",
    "            predicted = predicted_entities.get(entity, '')\n",
    "            y_true.append(actual.lower())\n",
    "            y_pred.append(predicted.lower())\n",
    "\n",
    "    return y_true, y_pred\n",
    "\n",
    "\n",
    "# set of all entity types present in the dataset\n",
    "entity_types = list(set([entity for row in data_small['data_results'] for entity in row.keys()])) \n",
    "entity_types"
   ]
  },
  {
   "cell_type": "code",
   "execution_count": 46,
   "metadata": {},
   "outputs": [
    {
     "data": {
      "text/plain": [
       "['06-184755-866851-3',\n",
       " '',\n",
       " 'optimization',\n",
       " '',\n",
       " '',\n",
       " '',\n",
       " '',\n",
       " '',\n",
       " '78b5r2mvfahj48500',\n",
       " '',\n",
       " '',\n",
       " 'omer',\n",
       " '',\n",
       " '',\n",
       " '',\n",
       " '',\n",
       " '',\n",
       " 'intersex person',\n",
       " 'kattie',\n",
       " '158centimeters',\n",
       " '72']"
      ]
     },
     "execution_count": 46,
     "metadata": {},
     "output_type": "execute_result"
    }
   ],
   "source": [
    "# Flatten the results\n",
    "y_true, y_pred = flatten_results(data_small, entity_types)\n",
    "\n",
    "y_true"
   ]
  },
  {
   "cell_type": "code",
   "execution_count": 47,
   "metadata": {},
   "outputs": [
    {
     "name": "stdout",
     "output_type": "stream",
     "text": [
      "Entity: PHONEIMEI\n",
      " Precision: 0.00\n",
      " Recall: 0.00\n",
      " F1-Score: 0.00\n",
      "\n",
      "Entity: VEHICLEVIN\n",
      " Precision: 0.00\n",
      " Recall: 0.00\n",
      " F1-Score: 0.00\n",
      "\n",
      "Entity: JOBAREA\n",
      " Precision: 0.00\n",
      " Recall: 0.00\n",
      " F1-Score: 0.00\n",
      "\n",
      "Entity: GENDER\n",
      " Precision: 0.00\n",
      " Recall: 0.00\n",
      " F1-Score: 0.00\n",
      "\n",
      "Entity: FIRSTNAME\n",
      " Precision: 0.00\n",
      " Recall: 0.00\n",
      " F1-Score: 0.00\n",
      "\n",
      "Entity: HEIGHT\n",
      " Precision: 0.00\n",
      " Recall: 0.00\n",
      " F1-Score: 0.00\n",
      "\n",
      "Entity: AGE\n",
      " Precision: 0.00\n",
      " Recall: 0.00\n",
      " F1-Score: 0.00\n",
      "\n",
      "Entity: overall\n",
      " Precision: 0.71\n",
      " Recall: 0.71\n",
      " F1-Score: 0.71\n",
      "\n"
     ]
    }
   ],
   "source": [
    "# calculate metrics for each entity\n",
    "metrics = {}\n",
    "    # FYI: For each entity type, binary lists are created. entity_true indicates the actual presence (1)\n",
    "         # or absence (0) of that entity in each record of the DataFrame. entity_pred does the same for the model's predictions.\n",
    "for entity in entity_types:\n",
    "    entity_true = [1 if y == entity.lower() else 0 for y in y_true]\n",
    "    entity_pred = [1 if y == entity.lower() else 0 for y in y_pred]\n",
    "\n",
    "    # -> y_true and y_pred contain actual and predicted entities for each dataset record.\n",
    "        # For each entity in entity_types, we check if its corresponding value in y_true or y_pred matches the entity#s name (y == entity.lower()),\n",
    "        # ensuring case-insensitive comparison.\n",
    "        # If there's a match, a 1 is added to the list, indicating the presence of that entity; otherwise, a 0 is added, indicating absence.\n",
    "    precision = precision_score(entity_true, entity_pred, zero_division=0)\n",
    "    recall = recall_score(entity_true, entity_pred, zero_division=0)\n",
    "    f1 = f1_score(entity_true, entity_pred, zero_division=0)\n",
    "\n",
    "    metrics[entity] = {'precision': precision, 'recall': recall, 'f1_score': f1}\n",
    "\n",
    "# calculate overall metrics\n",
    "overall_precision = precision_score(y_true, y_pred, average='micro', zero_division=0)\n",
    "overall_recall = recall_score(y_true, y_pred, average='micro', zero_division=0)\n",
    "overall_f1 = f1_score(y_true, y_pred, average='micro', zero_division=0)\n",
    "\n",
    "# overall metrics add to the metrics dictionary\n",
    "metrics['overall'] = {'precision': overall_precision, 'recall': overall_recall, 'f1_score': overall_f1}\n",
    "\n",
    "# metrics in a formatted way\n",
    "for entity, entity_metrics in metrics.items():\n",
    "    print(f\"Entity: {entity}\")\n",
    "    print(f\" Precision: {entity_metrics['precision']:.2f}\")\n",
    "    print(f\" Recall: {entity_metrics['recall']:.2f}\")\n",
    "    print(f\" F1-Score: {entity_metrics['f1_score']:.2f}\\n\")\n",
    "\n"
   ]
  },
  {
   "cell_type": "code",
   "execution_count": 48,
   "metadata": {},
   "outputs": [
    {
     "name": "stdout",
     "output_type": "stream",
     "text": [
      "['06-184755-866851-3', '', 'optimization', '', '', '', '', '', '78b5r2mvfahj48500', '', '', 'omer', '', '', '', '', '', 'intersex person', 'kattie', '158centimeters']\n",
      "['06 - 1847 ##55 - 86 ##6 ##85 ##1 - 3', '', 'optimization', '', '', '', '', '', '', '', '', 'om ##er', '', '', '', '', '', 'inter ##se ##x person', 'kat ##tie', '158 ##cent ##imeters']\n"
     ]
    }
   ],
   "source": [
    "print(y_true[:20])  # Zeigt die ersten 20 tatsächlichen Werte\n",
    "print(y_pred[:20])  # Zeigt die ersten 20 vorhergesagten Werte\n"
   ]
  },
  {
   "cell_type": "code",
   "execution_count": null,
   "metadata": {},
   "outputs": [],
   "source": []
  },
  {
   "cell_type": "code",
   "execution_count": null,
   "metadata": {},
   "outputs": [],
   "source": []
  }
 ],
 "metadata": {
  "kernelspec": {
   "display_name": "nlp_venv",
   "language": "python",
   "name": "python3"
  },
  "language_info": {
   "codemirror_mode": {
    "name": "ipython",
    "version": 3
   },
   "file_extension": ".py",
   "mimetype": "text/x-python",
   "name": "python",
   "nbconvert_exporter": "python",
   "pygments_lexer": "ipython3",
   "version": "3.8.10"
  }
 },
 "nbformat": 4,
 "nbformat_minor": 2
}
